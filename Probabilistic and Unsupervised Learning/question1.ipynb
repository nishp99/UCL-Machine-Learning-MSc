{
 "cells": [
  {
   "cell_type": "code",
   "execution_count": null,
   "id": "b08493e1",
   "metadata": {},
   "outputs": [],
   "source": [
    "import numpy as np\n",
    "import matplotlib.pyplot as plt\n",
    "import torch\n",
    "import torch.distributions as dist\n",
    "%matplotlib inline"
   ]
  },
  {
   "cell_type": "code",
   "execution_count": null,
   "id": "3b5c0ad5",
   "metadata": {},
   "outputs": [],
   "source": [
    "Y = np.loadtxt('binarydigits.txt')\n",
    "N, D = Y.shape"
   ]
  },
  {
   "cell_type": "code",
   "execution_count": null,
   "id": "4adb6970",
   "metadata": {},
   "outputs": [],
   "source": [
    "\"\"\"\n",
    "Part (d) function to learn the ML parameters of a multivariate Bernoulli for the data set,\n",
    "and display them as a grayscale image\n",
    "\"\"\"\n",
    "def learn_MLp(Y):\n",
    "    N, D = Y.shape\n",
    "    p = np.sum(Y,axis=0)/N\n",
    "    print(p)\n",
    "    plt.figure()\n",
    "    plt.imshow(np.reshape(p, (8,8)),\n",
    "                interpolation=\"None\",\n",
    "                cmap='gray')\n",
    "    plt.axis('off')\n",
    "    plt.show()\n",
    "\n",
    "learn_MLp(Y)"
   ]
  },
  {
   "cell_type": "code",
   "execution_count": null,
   "id": "80a5b355",
   "metadata": {},
   "outputs": [],
   "source": [
    "\"\"\"\n",
    "part (e) Function that learns the MAP parameters with alpha and beta = 3,\n",
    "and displays the new parameters as an image\n",
    "\"\"\"\n",
    "def learn_MAPp(Y,alpha=3,beta=3):\n",
    "    N, D = Y.shape\n",
    "    p = np.sum(Y,axis=0)/N\n",
    "    p += (alpha-1)\n",
    "    p = p/(beta+alpha-1)\n",
    "    print(p)\n",
    "    plt.figure()\n",
    "    plt.imshow(np.reshape(p, (8,8)),\n",
    "                interpolation=\"None\",\n",
    "                cmap='gray')\n",
    "    plt.axis('off')\n",
    "    plt.show()\n",
    "\n",
    "learn_MAPp(Y)"
   ]
  }
 ],
 "metadata": {
  "kernelspec": {
   "display_name": "Python 3",
   "language": "python",
   "name": "python3"
  },
  "language_info": {
   "codemirror_mode": {
    "name": "ipython",
    "version": 3
   },
   "file_extension": ".py",
   "mimetype": "text/x-python",
   "name": "python",
   "nbconvert_exporter": "python",
   "pygments_lexer": "ipython3",
   "version": "3.7.3"
  }
 },
 "nbformat": 4,
 "nbformat_minor": 5
}
