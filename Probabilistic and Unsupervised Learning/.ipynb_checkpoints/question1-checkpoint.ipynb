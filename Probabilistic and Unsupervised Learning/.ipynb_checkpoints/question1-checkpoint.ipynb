{
 "cells": [
  {
   "cell_type": "code",
   "execution_count": 5,
   "id": "185cc191",
   "metadata": {},
   "outputs": [],
   "source": [
    "import numpy as np\n",
    "import matplotlib.pyplot as plt\n",
    "import torch\n",
    "import torch.distributions as dist\n",
    "%matplotlib inline"
   ]
  },
  {
   "cell_type": "code",
   "execution_count": 9,
   "id": "f693d7c5",
   "metadata": {},
   "outputs": [
    {
     "data": {
      "image/png": "[encoded data removed]",
      "text/plain": [
       "<Figure size 432x288 with 1 Axes>"
      ]
     },
     "metadata": {
      "needs_background": "light"
     },
     "output_type": "display_data"
    },
    {
     "data": {
      "image/png": "[encoded data removed]",
      "text/plain": [
       "<Figure size 360x360 with 100 Axes>"
      ]
     },
     "metadata": {
      "needs_background": "light"
     },
     "output_type": "display_data"
    },
    {
     "name": "stdout",
     "output_type": "stream",
     "text": [
      "[0. 0. 0. 0. 1. 1. 1. 1. 0. 0. 1. 1. 1. 1. 1. 0. 0. 0. 0. 0. 1. 1. 0. 0.\n",
      " 0. 0. 0. 1. 1. 0. 0. 0. 0. 0. 1. 1. 0. 0. 0. 0. 0. 1. 1. 0. 0. 0. 0. 0.\n",
      " 1. 1. 0. 0. 0. 0. 0. 0. 1. 0. 0. 0. 0. 0. 0. 0.]\n"
     ]
    }
   ],
   "source": [
    "def main():\n",
    "    # load the data set\n",
    "    Y = np.loadtxt('Documents/UCL machine learning/Probabilistic and Unsupervised Learning/binarydigits.txt')\n",
    "    N, D = Y.shape\n",
    "\n",
    "    # this is how you display one image using matplotlib,\n",
    "    # e.g. the 4th image:\n",
    "    y = Y[3,  :]\n",
    "    plt.figure()\n",
    "    plt.imshow(np.reshape(y, (8,8)),\n",
    "               interpolation=\"None\",\n",
    "               cmap='gray')\n",
    "    plt.axis('off')\n",
    "\n",
    "    # now we will display the whole data set:\n",
    "    plt.figure(figsize=(5, 5))\n",
    "    for n in range(N):\n",
    "        plt.subplot(10, 10, n+1)\n",
    "        plt.imshow(np.reshape(Y[n, :], (8,8)),\n",
    "                   interpolation=\"None\",\n",
    "                   cmap='gray')\n",
    "        plt.axis('off')\n",
    "    plt.show()\n",
    "    print(Y[3,:])\n",
    "\n",
    "if __name__ == \"__main__\":\n",
    "    main()"
   ]
  },
  {
   "cell_type": "code",
   "execution_count": 18,
   "id": "f2ac1878",
   "metadata": {},
   "outputs": [],
   "source": [
    "Y = np.loadtxt('Documents/UCL machine learning/Probabilistic and Unsupervised Learning/binarydigits.txt')\n",
    "N, D = Y.shape"
   ]
  },
  {
   "cell_type": "code",
   "execution_count": 21,
   "id": "1102aa02",
   "metadata": {},
   "outputs": [
    {
     "name": "stdout",
     "output_type": "stream",
     "text": [
      "[0.13 0.21 0.29 0.43 0.64 0.77 0.69 0.5  0.08 0.25 0.45 0.64 0.72 0.7\n",
      " 0.79 0.48 0.13 0.3  0.45 0.39 0.27 0.25 0.5  0.52 0.19 0.45 0.48 0.31\n",
      " 0.29 0.25 0.44 0.4  0.32 0.39 0.19 0.26 0.23 0.4  0.54 0.26 0.47 0.33\n",
      " 0.13 0.14 0.28 0.44 0.48 0.17 0.6  0.59 0.35 0.44 0.57 0.52 0.29 0.04\n",
      " 0.28 0.66 0.76 0.77 0.42 0.19 0.05 0.  ]\n"
     ]
    },
    {
     "data": {
      "image/png": "[encoded data removed]",
      "text/plain": [
       "<Figure size 432x288 with 1 Axes>"
      ]
     },
     "metadata": {
      "needs_background": "light"
     },
     "output_type": "display_data"
    }
   ],
   "source": [
    "\"\"\"\n",
    "Part (d) function to learn the ML parameters of a multivariate Bernoulli for the data set,\n",
    "and display them as a grayscale image\n",
    "\"\"\"\n",
    "def learn_MLp(Y):\n",
    "    N, D = Y.shape\n",
    "    p = np.sum(Y,axis=0)/N\n",
    "    print(p)\n",
    "    plt.figure()\n",
    "    plt.imshow(np.reshape(p, (8,8)),\n",
    "                interpolation=\"None\",\n",
    "                cmap='gray')\n",
    "    plt.axis('off')\n",
    "    plt.show()\n",
    "\n",
    "learn_p(Y)"
   ]
  },
  {
   "cell_type": "code",
   "execution_count": 22,
   "id": "6bbf3d8d",
   "metadata": {},
   "outputs": [
    {
     "name": "stdout",
     "output_type": "stream",
     "text": [
      "[0.426 0.442 0.458 0.486 0.528 0.554 0.538 0.5   0.416 0.45  0.49  0.528\n",
      " 0.544 0.54  0.558 0.496 0.426 0.46  0.49  0.478 0.454 0.45  0.5   0.504\n",
      " 0.438 0.49  0.496 0.462 0.458 0.45  0.488 0.48  0.464 0.478 0.438 0.452\n",
      " 0.446 0.48  0.508 0.452 0.494 0.466 0.426 0.428 0.456 0.488 0.496 0.434\n",
      " 0.52  0.518 0.47  0.488 0.514 0.504 0.458 0.408 0.456 0.532 0.552 0.554\n",
      " 0.484 0.438 0.41  0.4  ]\n"
     ]
    },
    {
     "data": {
      "image/png": "[encoded data removed]",
      "text/plain": [
       "<Figure size 432x288 with 1 Axes>"
      ]
     },
     "metadata": {
      "needs_background": "light"
     },
     "output_type": "display_data"
    }
   ],
   "source": [
    "\"\"\"\n",
    "part (e) Function that learns the MAP parameters with alpha and beta = 3,\n",
    "and displays the new parameters as an image\n",
    "\"\"\"\n",
    "def learn_MAPp(Y,alpha=3,beta=3):\n",
    "    N, D = Y.shape\n",
    "    p = np.sum(Y,axis=0)/N\n",
    "    p += (alpha-1)\n",
    "    p = p/(beta+alpha-1)\n",
    "    print(p)\n",
    "    plt.figure()\n",
    "    plt.imshow(np.reshape(p, (8,8)),\n",
    "                interpolation=\"None\",\n",
    "                cmap='gray')\n",
    "    plt.axis('off')\n",
    "    plt.show()\n",
    "\n",
    "learn_MAPp(Y)"
   ]
  }
 ],
 "metadata": {
  "kernelspec": {
   "display_name": "Python 3",
   "language": "python",
   "name": "python3"
  },
  "language_info": {
   "codemirror_mode": {
    "name": "ipython",
    "version": 3
   },
   "file_extension": ".py",
   "mimetype": "text/x-python",
   "name": "python",
   "nbconvert_exporter": "python",
   "pygments_lexer": "ipython3",
   "version": "3.7.3"
  }
 },
 "nbformat": 4,
 "nbformat_minor": 5
}
