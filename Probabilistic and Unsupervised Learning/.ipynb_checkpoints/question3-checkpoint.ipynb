{
 "cells": [
  {
   "cell_type": "code",
   "execution_count": 3,
   "id": "dc0f24d2",
   "metadata": {},
   "outputs": [],
   "source": [
    "import numpy as np\n",
    "import matplotlib.pyplot as plt\n",
    "import torch\n",
    "import torch.distributions as dist\n",
    "import scipy as sp\n",
    "from scipy import special\n",
    "%matplotlib inline"
   ]
  },
  {
   "cell_type": "code",
   "execution_count": 4,
   "id": "509f2ace",
   "metadata": {},
   "outputs": [],
   "source": [
    "Y = np.loadtxt('binarydigits.txt')\n",
    "N, D = Y.shape\n",
    "X = torch.tensor(Y)"
   ]
  },
  {
   "cell_type": "code",
   "execution_count": 5,
   "id": "e88e47d1",
   "metadata": {},
   "outputs": [],
   "source": [
    "\"\"\"\n",
    "two functions that instantiate initial values for the parameters. \n",
    "with equal probability for each Bernoulli model,\n",
    "and the elements of the P matrix sampled uniformly from [0,1]. \n",
    "They both take as input 'k' the number of Bernoulli models\n",
    "\"\"\"\n",
    "def initial_pi(k):\n",
    "    return torch.full((k,),1/k).double()\n",
    "\n",
    "def initial_P(k,D):\n",
    "    return torch.rand((k,D)).double()"
   ]
  },
  {
   "cell_type": "code",
   "execution_count": 6,
   "id": "a1e24b22",
   "metadata": {},
   "outputs": [],
   "source": [
    "\"\"\"\n",
    "returns (N x K) matrix whose nth,kth element is the log-probability \n",
    "of the nth image given the kth Bernoulli model\n",
    "this is a done in a semi-vectorised approach, \n",
    "\"\"\"\n",
    "def prob_data_given_model(P,X):\n",
    "    \"\"\"big_X = torch.diag_embed(X).float()\n",
    "    big_I_X = torch.diag_embed(torch.ones(X.size())-X).float()\n",
    "    big_P = ((P.unsqueeze(0)).repeat(N,1,1)).float()\n",
    "    big_I_P = (((torch.ones(P.size())-P).unsqueeze(0)).repeat(N,1,1)).float()\n",
    "    prob_tensor = (torch.bmm(big_P,big_X) + torch.bmm(big_I_P,big_I_X)).double()\"\"\"\n",
    "    \n",
    "    big_X = torch.diag_embed(X)\n",
    "    big_I_X = torch.diag_embed(torch.ones(X.size())-X)\n",
    "    \n",
    "    tensor = ((P@big_X[0]) + (torch.ones(P.size())-P)@big_I_X[0]).unsqueeze(0)\n",
    "    \n",
    "    for i in range(1,N):\n",
    "        A = ((P@big_X[i]) + (torch.ones(P.size())-P)@big_I_X[i]).unsqueeze(0)\n",
    "        tensor = torch.concat((tensor,A),0)\n",
    "    \n",
    "    \n",
    "    prob_matrix = torch.prod(tensor,dim=2)\n",
    "    return prob_matrix"
   ]
  },
  {
   "cell_type": "code",
   "execution_count": 7,
   "id": "8814e9cd",
   "metadata": {},
   "outputs": [],
   "source": [
    "\"\"\"\n",
    "returns (N x K) matrix matrix whose nth,kth element is the joint probability\n",
    "of the nth image and the kth Bernoulli model\n",
    "\"\"\"\n",
    "def prob_data(P,X,pi):\n",
    "    return prob_data_given_model(P,X) @ torch.diag(pi)\n",
    "    "
   ]
  },
  {
   "cell_type": "code",
   "execution_count": 8,
   "id": "b6715e39",
   "metadata": {},
   "outputs": [],
   "source": [
    "\"\"\"\n",
    "returns normalising factor required for the responsibilites\n",
    "\"\"\"\n",
    "def sum_over_models(P,X,pi):\n",
    "    return torch.sum(prob_data(P,X,pi),1)"
   ]
  },
  {
   "cell_type": "code",
   "execution_count": 9,
   "id": "eba4fa69",
   "metadata": {},
   "outputs": [],
   "source": [
    "\"\"\"\n",
    "returns matrix of responsibilities given the parameters P and pi\n",
    "\"\"\"\n",
    "def responsibility(P,X,pi):\n",
    "    normalising = torch.div(torch.ones(sum_over_models(P,X,pi).size()),sum_over_models(P,X,pi))\n",
    "    normalising_mat = torch.diag(normalising)\n",
    "    return normalising_mat @ prob_data(P,X,pi)"
   ]
  },
  {
   "cell_type": "code",
   "execution_count": 10,
   "id": "4c8884a4",
   "metadata": {},
   "outputs": [],
   "source": [
    "\"\"\"\n",
    "returns the log-likelihood of the data given the parameters\n",
    "\"\"\"\n",
    "def log_likelihood(P,X,pi):\n",
    "    big_X = torch.diag_embed(X).float()\n",
    "    big_I_X = torch.diag_embed(torch.ones(X.size())-X).float()\n",
    "    big_P = ((P.unsqueeze(0)).repeat(N,1,1)).float()\n",
    "    big_I_P = (((torch.ones(P.size())-P).unsqueeze(0)).repeat(N,1,1)).float()\n",
    "    prob_tensor = (torch.bmm(big_P,big_X) + torch.bmm(big_I_P,big_I_X)).double()\n",
    "    prob_matrix = torch.prod(prob_tensor,dim=2)\n",
    "    log_prob_single_image = torch.sum((prob_matrix @ torch.diag(pi)),dim=1)\n",
    "    \n",
    "    return torch.sum(torch.log(log_prob_single_image))"
   ]
  },
  {
   "cell_type": "code",
   "execution_count": 11,
   "id": "e7484df2",
   "metadata": {},
   "outputs": [],
   "source": [
    "\"\"\"\n",
    "updates the distribution of the latent variables (part of the M-step)\n",
    "\"\"\"\n",
    "def update_pi(R):\n",
    "    return torch.sum(R,0)/N"
   ]
  },
  {
   "cell_type": "code",
   "execution_count": 12,
   "id": "0c469b07",
   "metadata": {},
   "outputs": [],
   "source": [
    "\"\"\"\n",
    "updates the benoulli parameter matrix (part of the M-step)\n",
    "\"\"\"\n",
    "def update_P(X,pi,R):\n",
    "    numerator = torch.t(R) @ X\n",
    "    #denominator = torch.diag(torch.div(torch.ones(pi.size()[0]),N*pi))\n",
    "    denominator = torch.diag(torch.div(torch.ones(pi.size()[0]),torch.sum(R,0)))\n",
    "    \n",
    "    return torch.t(torch.t(numerator) @ denominator)"
   ]
  },
  {
   "cell_type": "code",
   "execution_count": 13,
   "id": "aaff473d",
   "metadata": {},
   "outputs": [],
   "source": [
    "\"\"\"\n",
    "Runs the EM-algorithm for N_iter iterations, and returns the losses\n",
    "and learned parameters\n",
    "\"\"\"\n",
    "def EM_algorithm(K,X,N_iter):\n",
    "    pi = initial_pi(K)\n",
    "    P = initial_P(K,D)\n",
    "    R = responsibility(P,X,pi)\n",
    "    \n",
    "    losses = []\n",
    "    for _ in range(N_iter):\n",
    "        R = responsibility(P,X,pi)\n",
    "        likelihood = log_likelihood(P,X,pi)\n",
    "        losses.append(likelihood.item())\n",
    "        pi = update_pi(R)\n",
    "        P = update_P(X,pi,R)\n",
    "    \n",
    "    return losses, pi, P, R"
   ]
  },
  {
   "cell_type": "code",
   "execution_count": 34,
   "id": "2462df32",
   "metadata": {},
   "outputs": [
    {
     "data": {
      "image/png": "[encoded data removed]",
      "text/plain": [
       "<Figure size 432x288 with 1 Axes>"
      ]
     },
     "metadata": {
      "needs_background": "light"
     },
     "output_type": "display_data"
    }
   ],
   "source": [
    "K = [2,3,4,7,10]\n",
    "labels = []\n",
    "for k in K:\n",
    "    losses, pi, P, R = EM_algorithm(k,X,30)\n",
    "    plt.plot(np.arange(30),losses,label=f'K={k}')\n",
    "\n",
    "plt.legend(loc=\"lower right\") \n",
    "plt.xlabel('iterations')\n",
    "plt.ylabel('log likelihood')\n",
    "plt.savefig('log_like_k.png')\n",
    "plt.show()\n",
    "\n"
   ]
  },
  {
   "cell_type": "code",
   "execution_count": 35,
   "id": "5d0a89d0",
   "metadata": {},
   "outputs": [],
   "source": [
    "def display_clusters(k):\n",
    "    fig = plt.figure(figsize=(8,8))\n",
    "    for i in range(7):\n",
    "        losses, pi, P, R = EM_algorithm(k,X,30)\n",
    "        P = P.numpy()\n",
    "        for n in range(P.shape[0]):\n",
    "            fig.add_subplot(10,P.shape[0],k*i+1+n)\n",
    "            plt.imshow(np.reshape(P[n,:], (8,8)),\n",
    "                     interpolation=\"None\",\n",
    "                     cmap='gray')\n",
    "            plt.axis('off')\n",
    "        print(pi)\n",
    "    fig.subplots_adjust(wspace=0, hspace=0)\n",
    "    plt.tight_layout()\n",
    "    plt.show()"
   ]
  },
  {
   "cell_type": "code",
   "execution_count": 36,
   "id": "b041b9f8",
   "metadata": {},
   "outputs": [
    {
     "name": "stdout",
     "output_type": "stream",
     "text": [
      "tensor([0.0800, 0.1700, 0.1000, 0.1700, 0.0800, 0.0300, 0.0300, 0.0100, 0.2600,\n",
      "        0.0700], dtype=torch.float64)\n",
      "tensor([0.1600, 0.0900, 0.1898, 0.1002, 0.0400, 0.1600, 0.0200, 0.1000, 0.1000,\n",
      "        0.0400], dtype=torch.float64)\n",
      "tensor([0.0697, 0.0500, 0.0500, 0.0603, 0.0800, 0.1100, 0.2001, 0.1299, 0.1400,\n",
      "        0.1100], dtype=torch.float64)\n",
      "tensor([0.1405, 0.0200, 0.0700, 0.1200, 0.1495, 0.0400, 0.0900, 0.1100, 0.0100,\n",
      "        0.2500], dtype=torch.float64)\n",
      "tensor([0.1600, 0.0800, 0.1900, 0.0800, 0.1500, 0.0300, 0.0400, 0.0600, 0.1600,\n",
      "        0.0500], dtype=torch.float64)\n",
      "tensor([0.1099, 0.1394, 0.1000, 0.0200, 0.1100, 0.1207, 0.0400, 0.1300, 0.0600,\n",
      "        0.1701], dtype=torch.float64)\n",
      "tensor([0.0600, 0.0500, 0.1700, 0.1000, 0.1500, 0.1400, 0.0300, 0.0500, 0.2001,\n",
      "        0.0500], dtype=torch.float64)\n"
     ]
    },
    {
     "data": {
      "image/png": "[encoded data removed]",
      "text/plain": [
       "<Figure size 576x576 with 70 Axes>"
      ]
     },
     "metadata": {
      "needs_background": "light"
     },
     "output_type": "display_data"
    }
   ],
   "source": [
    "display_clusters(10)"
   ]
  }
 ],
 "metadata": {
  "kernelspec": {
   "display_name": "Python 3",
   "language": "python",
   "name": "python3"
  },
  "language_info": {
   "codemirror_mode": {
    "name": "ipython",
    "version": 3
   },
   "file_extension": ".py",
   "mimetype": "text/x-python",
   "name": "python",
   "nbconvert_exporter": "python",
   "pygments_lexer": "ipython3",
   "version": "3.7.3"
  }
 },
 "nbformat": 4,
 "nbformat_minor": 5
}
