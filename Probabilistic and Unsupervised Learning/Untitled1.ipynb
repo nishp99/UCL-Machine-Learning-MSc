{
 "cells": [
  {
   "cell_type": "code",
   "execution_count": 1,
   "id": "9f54315c",
   "metadata": {},
   "outputs": [],
   "source": [
    "import numpy as np\n",
    "import matplotlib.pyplot as plt\n",
    "import torch\n",
    "import torch.distributions as dist\n",
    "import scipy as sp\n",
    "from scipy import special\n",
    "%matplotlib inline"
   ]
  },
  {
   "cell_type": "code",
   "execution_count": 2,
   "id": "49c4aef9",
   "metadata": {},
   "outputs": [],
   "source": [
    "Y = np.loadtxt('binarydigits.txt')\n",
    "N, D = Y.shape\n",
    "alpha = 3\n",
    "beta = 3"
   ]
  },
  {
   "cell_type": "code",
   "execution_count": null,
   "id": "7cd98e49",
   "metadata": {},
   "outputs": [],
   "source": []
  }
 ],
 "metadata": {
  "kernelspec": {
   "display_name": "Python 3",
   "language": "python",
   "name": "python3"
  },
  "language_info": {
   "codemirror_mode": {
    "name": "ipython",
    "version": 3
   },
   "file_extension": ".py",
   "mimetype": "text/x-python",
   "name": "python",
   "nbconvert_exporter": "python",
   "pygments_lexer": "ipython3",
   "version": "3.7.3"
  }
 },
 "nbformat": 4,
 "nbformat_minor": 5
}
