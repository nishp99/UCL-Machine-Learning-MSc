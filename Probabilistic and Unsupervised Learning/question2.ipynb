{
 "cells": [
  {
   "cell_type": "code",
   "execution_count": 1,
   "id": "4177eb17",
   "metadata": {},
   "outputs": [],
   "source": [
    "import numpy as np\n",
    "import matplotlib.pyplot as plt\n",
    "import torch\n",
    "import torch.distributions as dist\n",
    "import scipy as sp\n",
    "from scipy import special\n",
    "%matplotlib inline"
   ]
  },
  {
   "cell_type": "code",
   "execution_count": 2,
   "id": "faad46cc",
   "metadata": {},
   "outputs": [],
   "source": [
    "Y = np.loadtxt('binarydigits.txt')\n",
    "N, D = Y.shape"
   ]
  },
  {
   "cell_type": "code",
   "execution_count": 3,
   "id": "008f02ea",
   "metadata": {},
   "outputs": [
    {
     "name": "stdout",
     "output_type": "stream",
     "text": [
      "-4436.14195558365\n"
     ]
    }
   ],
   "source": [
    "\"\"\"\n",
    "relative log-probability of model (a), bernoulli distribution with all p_d = 0.5\n",
    "\"\"\"\n",
    "log_prob_M_a = -N*D*np.log(2)\n",
    "print(log_prob_M_a)"
   ]
  },
  {
   "cell_type": "code",
   "execution_count": 4,
   "id": "d24764c3",
   "metadata": {},
   "outputs": [
    {
     "name": "stdout",
     "output_type": "stream",
     "text": [
      "-4283.721342577359\n"
     ]
    }
   ],
   "source": [
    "\"\"\"\n",
    "relative log-probability of model (b)\n",
    "\"\"\"\n",
    "log_beta_alphabeta = sp.special.betaln(alpha,beta)\n",
    "alpha_b = 1 + np.sum(np.sum(Y,axis=0))\n",
    "beta_b = 1 + D*N - np.sum(np.sum(Y,axis=0))\n",
    "\n",
    "log_prob_M_b = sp.special.betaln(alpha_b,beta_b)\n",
    "print(log_prob_M_b)"
   ]
  },
  {
   "cell_type": "code",
   "execution_count": 6,
   "id": "441b6cd3",
   "metadata": {},
   "outputs": [
    {
     "name": "stdout",
     "output_type": "stream",
     "text": [
      "-3851.1957439211315\n"
     ]
    }
   ],
   "source": [
    "\"\"\"\n",
    "relative log-prob of model (c)\n",
    "\"\"\"\n",
    "x_sum = np.sum(Y,axis=0)\n",
    "vec_alpha_c = 1 + x_sum\n",
    "vec_beta_c = 1 + N - x_sum\n",
    "\n",
    "log_beta_vec = sp.special.betaln(vec_alpha_c,vec_beta_c)\n",
    "\n",
    "log_prob_M_c = np.sum(log_beta_vec)\n",
    "print(log_prob_M_c)"
   ]
  },
  {
   "cell_type": "code",
   "execution_count": 14,
   "id": "9caebac5",
   "metadata": {},
   "outputs": [
    {
     "name": "stdout",
     "output_type": "stream",
     "text": [
      "[7.486863833253369e-60, 11741703.013759049, 8.188641720544932e+194]\n"
     ]
    }
   ],
   "source": [
    "relative_probs = [np.exp(4300+log_prob_M_a),np.exp(4300+log_prob_M_b),np.exp(4300+log_prob_M_c)]\n",
    "print(relative_probs)"
   ]
  }
 ],
 "metadata": {
  "kernelspec": {
   "display_name": "Python 3",
   "language": "python",
   "name": "python3"
  },
  "language_info": {
   "codemirror_mode": {
    "name": "ipython",
    "version": 3
   },
   "file_extension": ".py",
   "mimetype": "text/x-python",
   "name": "python",
   "nbconvert_exporter": "python",
   "pygments_lexer": "ipython3",
   "version": "3.7.3"
  }
 },
 "nbformat": 4,
 "nbformat_minor": 5
}
