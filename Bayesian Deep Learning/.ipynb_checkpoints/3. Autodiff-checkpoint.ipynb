{
 "cells": [
  {
   "cell_type": "code",
   "execution_count": 1,
   "metadata": {},
   "outputs": [],
   "source": [
    "import torch\n",
    "from torch import autograd\n",
    "import torch.distributions as dist\n",
    "\n",
    "import matplotlib.pyplot as plt\n",
    "%matplotlib inline"
   ]
  },
  {
   "cell_type": "markdown",
   "metadata": {},
   "source": [
    "## Classic autograd usage\n",
    "\n",
    "To declare a torch tensor as a leaf node in a computation graph, use `requires_grad`. Notice the difference:"
   ]
  },
  {
   "cell_type": "code",
   "execution_count": 2,
   "metadata": {},
   "outputs": [
    {
     "data": {
      "text/plain": [
       "tensor([2.2000, 1.1000])"
      ]
     },
     "execution_count": 2,
     "metadata": {},
     "output_type": "execute_result"
    }
   ],
   "source": [
    "x = torch.FloatTensor([2.2, 1.1])\n",
    "x"
   ]
  },
  {
   "cell_type": "code",
   "execution_count": 3,
   "metadata": {},
   "outputs": [
    {
     "data": {
      "text/plain": [
       "tensor([2.2000, 1.1000], requires_grad=True)"
      ]
     },
     "execution_count": 3,
     "metadata": {},
     "output_type": "execute_result"
    }
   ],
   "source": [
    "x.requires_grad_(True)"
   ]
  },
  {
   "cell_type": "markdown",
   "metadata": {},
   "source": [
    "A tensor that has `requires_grad=True` has a `.grad` attribute. This is initialized to `None`."
   ]
  },
  {
   "cell_type": "code",
   "execution_count": 4,
   "metadata": {},
   "outputs": [
    {
     "data": {
      "text/plain": [
       "True"
      ]
     },
     "execution_count": 4,
     "metadata": {},
     "output_type": "execute_result"
    }
   ],
   "source": [
    "x.grad is None"
   ]
  },
  {
   "cell_type": "markdown",
   "metadata": {},
   "source": [
    "You can see the computation graph being built dynamically! For internal nodes, it shows up as `grad_fn`."
   ]
  },
  {
   "cell_type": "code",
   "execution_count": 5,
   "metadata": {},
   "outputs": [
    {
     "data": {
      "text/plain": [
       "tensor([4.8400, 1.2100], grad_fn=<PowBackward0>)"
      ]
     },
     "execution_count": 5,
     "metadata": {},
     "output_type": "execute_result"
    }
   ],
   "source": [
    "y = x.pow(2)\n",
    "y"
   ]
  },
  {
   "cell_type": "code",
   "execution_count": 6,
   "metadata": {},
   "outputs": [
    {
     "data": {
      "text/plain": [
       "tensor(-4.3503, grad_fn=<SumBackward0>)"
      ]
     },
     "execution_count": 6,
     "metadata": {},
     "output_type": "execute_result"
    }
   ],
   "source": [
    "z = (torch.sin(x) - y).sum()\n",
    "z"
   ]
  },
  {
   "cell_type": "markdown",
   "metadata": {},
   "source": [
    "Once you've done some computation, you can call `.backward()` on a scalar output to accumulate gradients in the leaf nodes of the graph:"
   ]
  },
  {
   "cell_type": "code",
   "execution_count": 7,
   "metadata": {},
   "outputs": [
    {
     "data": {
      "text/plain": [
       "tensor([-4.9885, -1.7464])"
      ]
     },
     "execution_count": 7,
     "metadata": {},
     "output_type": "execute_result"
    }
   ],
   "source": [
    "z.backward()\n",
    "x.grad"
   ]
  },
  {
   "cell_type": "markdown",
   "metadata": {},
   "source": [
    "Calling `z.backward()` again will raise an error. If you want second derivatives, you'll need to explicitly tell it to \"retain\" the graph.\n",
    "\n",
    "Also, be careful if you now \"reuse\" this value of `x`!"
   ]
  },
  {
   "cell_type": "code",
   "execution_count": 8,
   "metadata": {},
   "outputs": [
    {
     "data": {
      "text/plain": [
       "tensor([-3.9885, -0.7464])"
      ]
     },
     "execution_count": 8,
     "metadata": {},
     "output_type": "execute_result"
    }
   ],
   "source": [
    "(x + 2).sum().backward()\n",
    "x.grad"
   ]
  },
  {
   "cell_type": "markdown",
   "metadata": {},
   "source": [
    "This value is wrong, because when `.backward()` is called, it does not reset the currently stored `.grad` attribute to zero! Instead, it accumulates more partial derivatives. You can manually zero it out though, to get the expected result. Note that `.zero_()`, and all the methods with underscores, are generally \"in-place\" operations. You will usually want to avoid these, but in this case it's actually what we want."
   ]
  },
  {
   "cell_type": "code",
   "execution_count": 9,
   "metadata": {},
   "outputs": [
    {
     "data": {
      "text/plain": [
       "tensor([1., 1.])"
      ]
     },
     "execution_count": 9,
     "metadata": {},
     "output_type": "execute_result"
    }
   ],
   "source": [
    "x.grad.zero_()\n",
    "(x + 2).sum().backward()\n",
    "x.grad"
   ]
  },
  {
   "cell_type": "markdown",
   "metadata": {},
   "source": [
    "## Torch optimizers\n",
    "\n",
    "There are many optimization tools built into pytorch. Here we will show how to use the `torch.optim.SGD` class to minimize a test function."
   ]
  },
  {
   "cell_type": "code",
   "execution_count": 10,
   "metadata": {},
   "outputs": [
    {
     "data": {
      "image/png": "[encoded data removed]",
      "text/plain": [
       "<Figure size 432x288 with 1 Axes>"
      ]
     },
     "metadata": {
      "needs_background": "light"
     },
     "output_type": "display_data"
    }
   ],
   "source": [
    "def fn(x):\n",
    "    return 0.1*x.pow(2) - x + x.sin()\n",
    "\n",
    "domain = torch.linspace(-15, 15, 1000)\n",
    "plt.plot(domain, fn(domain));"
   ]
  },
  {
   "cell_type": "markdown",
   "metadata": {},
   "source": [
    "Most of the time you use gradients in pytorch, particularly for deep learning models, it will be something like the following incantation:"
   ]
  },
  {
   "cell_type": "code",
   "execution_count": 11,
   "metadata": {},
   "outputs": [],
   "source": [
    "# set initial point\n",
    "x = torch.tensor(-10.0, requires_grad=True)\n",
    "\n",
    "# define optimizer\n",
    "opt = torch.optim.SGD((x, ), lr=0.1, momentum=0.8)\n",
    "\n",
    "# iterate\n",
    "N_steps = 30\n",
    "# track progress\n",
    "values = []\n",
    "for _ in range(N_steps):\n",
    "    # zero the gradients\n",
    "    opt.zero_grad()\n",
    "    # forward pass\n",
    "    y = fn(x)\n",
    "    # backward pass\n",
    "    y.backward()\n",
    "    # save value for reference (`.item()` returns the raw scalar!)\n",
    "    values.append((x.item(), y.item()))\n",
    "    # do one optmizer step\n",
    "    opt.step()\n"
   ]
  },
  {
   "cell_type": "markdown",
   "metadata": {},
   "source": [
    "Plot what happened:"
   ]
  },
  {
   "cell_type": "code",
   "execution_count": 12,
   "metadata": {},
   "outputs": [
    {
     "data": {
      "image/png": "[encoded data removed]",
      "text/plain": [
       "<Figure size 432x288 with 1 Axes>"
      ]
     },
     "metadata": {
      "needs_background": "light"
     },
     "output_type": "display_data"
    }
   ],
   "source": [
    "plt.plot(domain, fn(domain));\n",
    "plt.scatter(torch.FloatTensor(values)[:,0], \n",
    "            torch.FloatTensor(values)[:,1], \n",
    "            c=torch.linspace(0, 1, len(values)), \n",
    "            cmap='plasma_r');"
   ]
  },
  {
   "cell_type": "markdown",
   "metadata": {},
   "source": [
    "## Plotting whole derivatives\n",
    "\n",
    "This isn't a very common use-case, but you can do it!"
   ]
  },
  {
   "cell_type": "code",
   "execution_count": 13,
   "metadata": {},
   "outputs": [
    {
     "data": {
      "image/png": "[encoded data removed]",
      "text/plain": [
       "<Figure size 432x288 with 1 Axes>"
      ]
     },
     "metadata": {
      "needs_background": "light"
     },
     "output_type": "display_data"
    }
   ],
   "source": [
    "inputs = torch.linspace(-15, 15, 100).requires_grad_(True)\n",
    "outputs = fn(inputs)\n",
    "\n",
    "# this is one way to compute the gradient in parallel at each point,\n",
    "# by passing in `ones` as the starting values everywhere\n",
    "fn(inputs).backward(gradient=torch.ones_like(outputs))\n",
    "\n",
    "# When you are doing something that doesn't require the gradients,\n",
    "# like plotting, then you should wrap your computation in\n",
    "# `torch.no_grad()`.\n",
    "with torch.no_grad():\n",
    "    plt.plot(inputs, outputs)\n",
    "    plt.plot(inputs, inputs.grad)\n",
    "    plt.legend(['function', 'derivative', 'y = 0']);\n"
   ]
  },
  {
   "cell_type": "markdown",
   "metadata": {},
   "source": [
    "### Note: variable which require gradients can't be cast to numpy\n",
    "\n",
    "They can be `.detach()`d, or wrap the block of code in `torch.no_grad()`. Of course, this will create a \"break\" in the computation graph!"
   ]
  },
  {
   "cell_type": "code",
   "execution_count": 14,
   "metadata": {},
   "outputs": [
    {
     "ename": "RuntimeError",
     "evalue": "Can't call numpy() on Tensor that requires grad. Use tensor.detach().numpy() instead.",
     "output_type": "error",
     "traceback": [
      "\u001b[0;31m---------------------------------------------------------------------------\u001b[0m",
      "\u001b[0;31mRuntimeError\u001b[0m                              Traceback (most recent call last)",
      "\u001b[0;32m<ipython-input-14-e36242b3b010>\u001b[0m in \u001b[0;36m<module>\u001b[0;34m\u001b[0m\n\u001b[0;32m----> 1\u001b[0;31m \u001b[0moutputs\u001b[0m\u001b[0;34m.\u001b[0m\u001b[0mnumpy\u001b[0m\u001b[0;34m(\u001b[0m\u001b[0;34m)\u001b[0m\u001b[0;34m\u001b[0m\u001b[0;34m\u001b[0m\u001b[0m\n\u001b[0m",
      "\u001b[0;31mRuntimeError\u001b[0m: Can't call numpy() on Tensor that requires grad. Use tensor.detach().numpy() instead."
     ]
    }
   ],
   "source": [
    "outputs.numpy()"
   ]
  },
  {
   "cell_type": "code",
   "execution_count": 15,
   "metadata": {},
   "outputs": [
    {
     "name": "stdout",
     "output_type": "stream",
     "text": [
      "[ 3.6849712e+01  3.5449707e+01  3.4145271e+01  3.2947350e+01\n",
      "  3.1858822e+01  3.0874283e+01  2.9980528e+01  2.9157745e+01\n",
      "  2.8381340e+01  2.7624153e+01  2.6858955e+01  2.6060921e+01\n",
      "  2.5209888e+01  2.4292194e+01  2.3301931e+01  2.2241480e+01\n",
      "  2.1121275e+01  1.9958893e+01  1.8777409e+01  1.7603319e+01\n",
      "  1.6464123e+01  1.5385807e+01  1.4390483e+01  1.3494385e+01\n",
      "  1.2706364e+01  1.2027105e+01  1.1449055e+01  1.0957104e+01\n",
      "  1.0529980e+01  1.0142171e+01  9.7662554e+00  9.3754063e+00\n",
      "  8.9458265e+00  8.4589233e+00  7.9030032e+00  7.2743306e+00\n",
      "  6.5774803e+00  5.8249063e+00  5.0358191e+00  4.2344284e+00\n",
      "  3.4477401e+00  2.7030897e+00  2.0256600e+00  1.4361792e+00\n",
      "  9.4903660e-01  5.7096785e-01  3.0044299e-01  1.2780565e-01\n",
      "  3.6152571e-02  2.8747171e-03  1.7166436e-03  5.1696599e-03\n",
      " -1.3021469e-02 -7.5466037e-02 -1.9906723e-01 -3.9348143e-01\n",
      " -6.6023779e-01 -9.9260157e-01 -1.3761839e+00 -1.7902560e+00\n",
      " -2.2096364e+00 -2.6069863e+00 -2.9553020e+00 -3.2303729e+00\n",
      " -3.4129908e+00 -3.4906983e+00 -3.4589243e+00 -3.3214011e+00\n",
      " -3.0898242e+00 -2.7827854e+00 -2.4240806e+00 -2.0405405e+00\n",
      " -1.6595831e+00 -1.3067211e+00 -1.0032303e+00 -7.6421523e-01\n",
      " -5.9723091e-01 -5.0159407e-01 -4.6844918e-01 -4.8156926e-01\n",
      " -5.1883888e-01 -5.5426800e-01 -5.6036198e-01 -5.1062411e-01\n",
      " -3.8197267e-01 -1.5684372e-01  1.7520857e-01  6.1655980e-01\n",
      "  1.1613004e+00  1.7957712e+00  2.4998143e+00  3.2485955e+00\n",
      "  4.0148888e+00  4.7715397e+00  5.4939427e+00  6.1622953e+00\n",
      "  6.7633929e+00  7.2918253e+00  7.7504835e+00  8.1502876e+00]\n"
     ]
    }
   ],
   "source": [
    "with torch.no_grad():\n",
    "    print(outputs.numpy())"
   ]
  },
  {
   "cell_type": "code",
   "execution_count": null,
   "metadata": {},
   "outputs": [],
   "source": []
  }
 ],
 "metadata": {
  "kernelspec": {
   "display_name": "Python 3",
   "language": "python",
   "name": "python3"
  },
  "language_info": {
   "codemirror_mode": {
    "name": "ipython",
    "version": 3
   },
   "file_extension": ".py",
   "mimetype": "text/x-python",
   "name": "python",
   "nbconvert_exporter": "python",
   "pygments_lexer": "ipython3",
   "version": "3.7.3"
  }
 },
 "nbformat": 4,
 "nbformat_minor": 4
}
