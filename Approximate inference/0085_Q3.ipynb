{
  "nbformat": 4,
  "nbformat_minor": 0,
  "metadata": {
    "colab": {
      "name": "0085 Q3.ipynb",
      "provenance": [],
      "collapsed_sections": []
    },
    "kernelspec": {
      "name": "python3",
      "display_name": "Python 3"
    },
    "language_info": {
      "name": "python"
    }
  },
  "cells": [
    {
      "cell_type": "code",
      "execution_count": null,
      "metadata": {
        "id": "Pkxvbm7taEcw"
      },
      "outputs": [],
      "source": [
        "import torch\n",
        "import numpy as np\n",
        "import matplotlib.pyplot as plt\n",
        "import re\n",
        "import math\n",
        "\n",
        "#from google.colab import drive\n",
        "#drive.mount('/content/drive', force_remount=True)\n"
      ]
    },
    {
      "cell_type": "code",
      "source": [
        "\"\"\"\n",
        "Computes the free energy, directly by the equation derived in the pdf\n",
        "\"\"\"\n",
        "def free_energy(X, mu, sigma, pie, lambd):\n",
        "  \n",
        "  L_TL = lambd.t() @ lambd\n",
        "  mu_Tmu = mu.t() @ mu\n",
        "  mu_diag = torch.diagonal(mu_Tmu, 0)\n",
        "  N, D = X.size()\n",
        "  one_pie = torch.ones_like(pie) - pie\n",
        "  one_lambd = torch.ones_like(lambd) - lambd\n",
        "\n",
        "  f = -N * D / 2 * np.log(sigma**2)\n",
        "  \n",
        "\n",
        "  f -= (torch.trace(X @ X.t()) - 2 * torch.trace(lambd.t() @ X @ mu) + \n",
        "   torch.trace(L_TL @ mu_Tmu) - torch.sum(torch.diagonal(L_TL, 0) * mu_diag) + \n",
        "   torch.sum(lambd @ torch.diag(mu_diag)))/ (2 * sigma**2)\n",
        "  \n",
        "  f += (torch.sum(lambd @ torch.log(torch.div(pie, one_pie))) + \n",
        "        N*torch.sum(torch.log(one_pie)))\n",
        "  \n",
        "  #this step ensures no Nan values are returned, i.e sets 0*log(0) to equal 0\n",
        "  New = lambd.clone().detach()\n",
        "  New = -New*torch.log(New) -(1-New)*torch.log(1-New)\n",
        "  New = torch.nan_to_num(New)\n",
        "  f += torch.sum(New)\n",
        "\n",
        "  return f\n"
      ],
      "metadata": {
        "id": "NgE-tka6NQsY"
      },
      "execution_count": null,
      "outputs": []
    },
    {
      "cell_type": "code",
      "source": [
        "\"\"\"\n",
        "performs the E-step by iteratively updating the columns of lambda0\n",
        "\"\"\"\n",
        "def MeanField(X,mu,sigma,pie,lambda0,maxsteps):\n",
        "  \n",
        "  log_pi = torch.log(torch.div(pie, torch.ones_like(pie) - pie))\n",
        "  mu_Tmu = mu.t() @ mu\n",
        "  mu_diag = torch.diagonal(mu_Tmu)\n",
        "  mu_X = X @ mu\n",
        "\n",
        "  epsilon = 1e-6\n",
        "  steps = 0\n",
        "  f = [free_energy(X, mu, sigma, pie, lambda0)]\n",
        "  delta = 10\n",
        "  while steps < maxsteps and delta > epsilon:\n",
        "    for i in range(mu.size()[1]):\n",
        "      exponent = ((mu_X[:,i] - lambda0 @ (mu_Tmu[:,i]) + lambda0[:,i]*mu_diag[i] \n",
        "                  - mu_diag[i]/2)/sigma**2 + log_pi[i])\n",
        "      \n",
        "      lambda0[:,i] = torch.reciprocal(1 + torch.exp(-exponent))\n",
        "      #f.append(free_energy(X, mu, sigma, pie, lambda0))\n",
        "\n",
        "    new_f = free_energy(X, mu, sigma, pie, lambda0)\n",
        "    #delta = new_f - f[-2]\n",
        "    #assert delta >= 0\n",
        "    steps += 1\n",
        "\n",
        "  return lambda0, f\n"
      ],
      "metadata": {
        "id": "tDD5wjVMaJQI"
      },
      "execution_count": null,
      "outputs": []
    },
    {
      "cell_type": "code",
      "source": [
        "def m_step(X, ES, ESS):\n",
        "    N, D = X.size()\n",
        "\n",
        "    mu = ((torch.inverse(ESS) @ ES.t()) @ X).t()\n",
        "\n",
        "    sigma = (torch.sqrt(torch.trace(X.t() @ X) + torch.trace((mu.t() @ mu) @ ESS)\n",
        "             -2 * torch.trace((ES.t() @ X) @ mu))/(N*D))\n",
        "    \n",
        "    pie = torch.sum(ES, 0)/N\n",
        "    \n",
        "    return mu, sigma, pie"
      ],
      "metadata": {
        "id": "TxM9TBxs1Cka"
      },
      "execution_count": null,
      "outputs": []
    },
    {
      "cell_type": "code",
      "source": [
        "def LearnBinFactors(X,K,iterations):\n",
        "  N,D = X.size()\n",
        "\n",
        "  #initialise parameters\n",
        "  lambda0 = torch.rand((N,K)).double()\n",
        "  mu = torch.ones((D,K)).double()/K\n",
        "  pie = torch.rand(K).double()\n",
        "  sigma = 0.2\n",
        "\n",
        "  F_s = [free_energy(X, mu, sigma, pie, lambda0).item()]\n",
        "\n",
        "  for i in range(iterations):\n",
        "    #E-step\n",
        "    lambda0, F_E = MeanField(X, mu, sigma, pie, lambda0, 50)\n",
        "    \n",
        "    #compute ESS\n",
        "    ESS = (lambda0.t() @ lambda0 - \n",
        "           torch.diag(torch.diagonal(lambda0.t() @ lambda0)) +\n",
        "           torch.diag(lambda0.sum(0)) + (1e-5)*torch.eye(K))\n",
        "    #M-step\n",
        "    mu, sigma, pie = m_step(X, lambda0, ESS)\n",
        "    f = free_energy(X, mu, sigma, pie, lambda0).item()\n",
        "    #print(f)\n",
        "    F_s.append(f)\n",
        "    #assert F_s[-1] >= F_s[-2]\n",
        "\n",
        "  return mu, sigma, pie, F_s, lambda0"
      ],
      "metadata": {
        "id": "IpGa2Lc9QhSe"
      },
      "execution_count": null,
      "outputs": []
    },
    {
      "cell_type": "code",
      "source": [
        "N=800  # number of data points - you can increase this if you want to\n",
        "       # learn better features (but it will take longer).\n",
        "D=16   # dimensionality of the data\n",
        "\n",
        "np.random.seed(0)\n",
        "\n",
        "# Define the basic shapes of the features\n",
        "\n",
        "m1 = [0, 0, 1, 0,\n",
        "      0, 1, 1, 1,\n",
        "      0, 0, 1, 0,\n",
        "      0, 0, 0, 0]\n",
        "\n",
        "m2 = [0, 1, 0, 0,\n",
        "      0, 1, 0, 0,\n",
        "      0, 1, 0, 0,\n",
        "      0, 1, 0, 0]\n",
        "\n",
        "m3 = [1, 1, 1, 1,\n",
        "      0, 0, 0, 0,\n",
        "      0, 0, 0, 0,\n",
        "      0, 0, 0, 0]\n",
        "\n",
        "m4 = [1, 0, 0, 0,\n",
        "      0, 1, 0, 0,\n",
        "      0, 0, 1, 0,\n",
        "      0, 0, 0, 1] \n",
        "\n",
        "m5 = [0, 0, 0, 0,\n",
        "      0, 0, 0, 0,\n",
        "      1, 1, 0, 0,\n",
        "      1, 1, 0, 0] \n",
        "\n",
        "m6 = [1, 1, 1, 1,\n",
        "      1, 0, 0, 1,\n",
        "      1, 0, 0, 1,\n",
        "      1, 1, 1, 1] \n",
        "\n",
        "m7 = [0, 0, 0, 0,\n",
        "      0, 1, 1, 0,\n",
        "      0, 1, 1, 0,\n",
        "      0, 0, 0, 0]\n",
        "\n",
        "m8 = [0, 0, 0, 1,\n",
        "      0, 0, 0, 1,\n",
        "      0, 0, 0, 1,\n",
        "      0, 0, 0, 1]\n",
        "\n",
        "nfeat = 8 # number of features\n",
        "rr = 0.5 + np.random.rand(nfeat, 1) * 0.5 # weight of each feature between 0.5 and 1\n",
        "mut = np.array([rr[0] * m1, rr[1] * m2, rr[2] * m3, rr[3] * m4, rr[4] * m5,\n",
        "                rr[5] * m6, rr[6] * m7, rr[7] * m8])\n",
        "s = np.random.rand(N, nfeat) < 0.3 # each feature occurs with prob 0.3 independently \n",
        "\n",
        "# Generate Data - The Data is stored in Y\n",
        "\n",
        "Y = np.dot(s, mut) + np.random.randn(N, D) * 0.1 # some Gaussian noise is added \n",
        "\n",
        "nrows = 13\n",
        "for k in range(16):\n",
        "    plt.subplot(4, 4, k + 1)\n",
        "    plt.imshow(np.reshape(Y[k], (4, 4)), cmap=plt.gray(), interpolation='none')\n",
        "    plt.axis('off')\n",
        "\n",
        "plt.show()"
      ],
      "metadata": {
        "colab": {
          "base_uri": "https://localhost:8080/",
          "height": 248
        },
        "id": "TSCuLaGWQnZj",
        "outputId": "174ff495-bc29-458c-c63a-327beb27ec1c"
      },
      "execution_count": null,
      "outputs": [
        {
          "output_type": "display_data",
          "data": {
            "image/png": "[encoded data removed]",
            "text/plain": [
              "<Figure size 432x288 with 16 Axes>"
            ]
          },
          "metadata": {
            "needs_background": "light"
          }
        }
      ]
    },
    {
      "cell_type": "code",
      "source": [
        "X = torch.tensor(Y).double()"
      ],
      "metadata": {
        "id": "HKexLQbO9r-n"
      },
      "execution_count": null,
      "outputs": []
    },
    {
      "cell_type": "code",
      "source": [
        "print(X.size())"
      ],
      "metadata": {
        "colab": {
          "base_uri": "https://localhost:8080/"
        },
        "id": "upw37zd7DG_Y",
        "outputId": "89068c3a-8734-4537-836c-22727ef5427d"
      },
      "execution_count": null,
      "outputs": [
        {
          "output_type": "stream",
          "name": "stdout",
          "text": [
            "torch.Size([800, 16])\n"
          ]
        }
      ]
    },
    {
      "cell_type": "code",
      "source": [
        "mu_2, sigma_2, pie_2, F_s_2, lambda0_2 = LearnBinFactors(X,2,30)\n",
        "mu_3, sigma_3, pie_3, F_s_3, lambda0_3 = LearnBinFactors(X,3,30)\n",
        "mu_4, sigma_4, pie_4, F_s_4, lambda0_4 = LearnBinFactors(X,4,30)\n",
        "mu_5, sigma_5, pie_5, F_s_5, lambda0_5 = LearnBinFactors(X,5,30)\n",
        "mu_6, sigma_6, pie_6, F_s_6, lambda0_6 = LearnBinFactors(X,6,30)\n",
        "mu_7, sigma_7, pie_7, F_s_7, lambda0_7 = LearnBinFactors(X,7,30)\n",
        "mu_8, sigma_8, pie_8, F_s_8, lambda0_8 = LearnBinFactors(X,8,30)\n",
        "mu_9, sigma_9, pie_9, F_s_9, lambda0_9 = LearnBinFactors(X,9,30)\n",
        "mu_10, sigma_10, pie_10, F_s_10, lambda0_10 = LearnBinFactors(X,10,30)"
      ],
      "metadata": {
        "id": "JUINdnuODO7V"
      },
      "execution_count": null,
      "outputs": []
    },
    {
      "cell_type": "code",
      "source": [
        "plt.plot(np.arange(len(F_s_8)-1),F_s_8[1:], label = 'K=8')\n",
        "plt.plot(np.arange(len(F_s_2)-1),F_s_2[1:], label = 'K=2')\n",
        "plt.plot(np.arange(len(F_s_3)-1),F_s_3[1:], label = 'K=3')\n",
        "plt.plot(np.arange(len(F_s_4)-1),F_s_4[1:], label = 'K=4')\n",
        "plt.plot(np.arange(len(F_s_5)-1),F_s_5[1:], label = 'K=5')\n",
        "plt.plot(np.arange(len(F_s_6)-1),F_s_6[1:], label = 'K=6')\n",
        "plt.plot(np.arange(len(F_s_7)-1),F_s_7[1:], label = 'K=7')\n",
        "plt.plot(np.arange(len(F_s_9)-1),F_s_9[1:], label = 'K=9')\n",
        "plt.plot(np.arange(len(F_s_10)-1),F_s_10[1:], label = 'K=10')\n",
        "plt.legend(loc=\"upper left\")\n",
        "plt.xlabel('iterations')\n",
        "plt.ylabel('F')\n",
        "plt.title('Free energy by EM for different K')"
      ],
      "metadata": {
        "colab": {
          "base_uri": "https://localhost:8080/",
          "height": 313
        },
        "id": "HjgHXr_1DYC5",
        "outputId": "407b411b-68f9-4b63-c239-aef8e66c89dd"
      },
      "execution_count": null,
      "outputs": [
        {
          "output_type": "execute_result",
          "data": {
            "text/plain": [
              "Text(0.5, 1.0, 'Free energy by EM for different K')"
            ]
          },
          "metadata": {},
          "execution_count": 21
        },
        {
          "output_type": "display_data",
          "data": {
            "image/png": "[encoded data removed]",
            "text/plain": [
              "<Figure size 432x288 with 1 Axes>"
            ]
          },
          "metadata": {
            "needs_background": "light"
          }
        }
      ]
    },
    {
      "cell_type": "code",
      "source": [
        "for k in range(10):\n",
        "    plt.subplot(4, 4, k + 1)\n",
        "    plt.imshow(np.reshape(mu_10[:,k], (4, 4)), cmap=plt.gray(), interpolation='none')\n",
        "    plt.axis('off')\n",
        "\n",
        "plt.show()"
      ],
      "metadata": {
        "colab": {
          "base_uri": "https://localhost:8080/",
          "height": 192
        },
        "id": "E4FLSmuoJ74q",
        "outputId": "ff570869-39cf-48be-d51d-8bf9b6b284e2"
      },
      "execution_count": null,
      "outputs": [
        {
          "output_type": "display_data",
          "data": {
            "image/png": "[encoded data removed]",
            "text/plain": [
              "<Figure size 432x288 with 10 Axes>"
            ]
          },
          "metadata": {
            "needs_background": "light"
          }
        }
      ]
    },
    {
      "cell_type": "code",
      "source": [
        "for k in range(8):\n",
        "    plt.subplot(4, 4, k + 1)\n",
        "    plt.imshow(np.reshape(mu_8[:,k], (4, 4)), cmap=plt.gray(), interpolation='none')\n",
        "    plt.axis('off')\n",
        "\n",
        "plt.show()"
      ],
      "metadata": {
        "colab": {
          "base_uri": "https://localhost:8080/",
          "height": 135
        },
        "id": "MPmeOGguFrho",
        "outputId": "90683207-7598-4581-a178-322b9dca7680"
      },
      "execution_count": null,
      "outputs": [
        {
          "output_type": "display_data",
          "data": {
            "image/png": "[encoded data removed]",
            "text/plain": [
              "<Figure size 432x288 with 8 Axes>"
            ]
          },
          "metadata": {
            "needs_background": "light"
          }
        }
      ]
    },
    {
      "cell_type": "code",
      "source": [
        "for k in range(6):\n",
        "    plt.subplot(4, 4, k + 1)\n",
        "    plt.imshow(np.reshape(mu_6[:,k], (4, 4)), cmap=plt.gray(), interpolation='none')\n",
        "    plt.axis('off')\n",
        "\n",
        "plt.show()"
      ],
      "metadata": {
        "colab": {
          "base_uri": "https://localhost:8080/",
          "height": 135
        },
        "id": "OWdYo4uP83lb",
        "outputId": "c99cc83e-968a-45f7-c718-536d75f1eba1"
      },
      "execution_count": null,
      "outputs": [
        {
          "output_type": "display_data",
          "data": {
            "image/png": "[encoded data removed]",
            "text/plain": [
              "<Figure size 432x288 with 6 Axes>"
            ]
          },
          "metadata": {
            "needs_background": "light"
          }
        }
      ]
    },
    {
      "cell_type": "code",
      "source": [
        "print(sigma_8)\n",
        "print(pie_8)"
      ],
      "metadata": {
        "colab": {
          "base_uri": "https://localhost:8080/"
        },
        "id": "CvKrYROIYSKm",
        "outputId": "22760b85-e314-4aa5-e2c4-9b988e5a1f68"
      },
      "execution_count": null,
      "outputs": [
        {
          "output_type": "stream",
          "name": "stdout",
          "text": [
            "tensor(0.0019, dtype=torch.float64)\n",
            "tensor([0.3038, 0.3700, 0.4350, 0.4763, 0.6162, 0.3088, 0.4175, 0.3025],\n",
            "       dtype=torch.float64)\n"
          ]
        }
      ]
    },
    {
      "cell_type": "code",
      "source": [
        "L = torch.rand((1,8)).double()"
      ],
      "metadata": {
        "id": "QZece-r8WZra"
      },
      "execution_count": null,
      "outputs": []
    },
    {
      "cell_type": "code",
      "source": [
        "L_a, f_a = MeanField(X[0].unsqueeze(0), mu_8, 0.01, pie_8, L.clone().detach(),400)\n",
        "L_c, f_c = MeanField(X[0].unsqueeze(0), mu_8, 0.1, pie_8,  L.clone().detach(),400)\n",
        "L_d, f_d = MeanField(X[0].unsqueeze(0), mu_8, 1, pie_8,  L.clone().detach(),400)\n",
        "\n"
      ],
      "metadata": {
        "id": "V5TlxyT9J5jg"
      },
      "execution_count": null,
      "outputs": []
    },
    {
      "cell_type": "code",
      "source": [
        "plt.plot(np.arange(len(f_a)),f_a, label = 'sigma=0.01')\n",
        "plt.plot(np.arange(len(f_b)),f_b, label = 'sigma=0.1')\n",
        "plt.plot(np.arange(len(f_d)),f_d, label = 'sigma=1')\n",
        "plt.legend(loc='lower right')"
      ],
      "metadata": {
        "colab": {
          "base_uri": "https://localhost:8080/",
          "height": 282
        },
        "id": "e7whY_fQzPGg",
        "outputId": "e78cb788-379e-4ab3-9d31-4b9679332207"
      },
      "execution_count": null,
      "outputs": [
        {
          "output_type": "execute_result",
          "data": {
            "text/plain": [
              "<matplotlib.legend.Legend at 0x7fccc3a93d10>"
            ]
          },
          "metadata": {},
          "execution_count": 250
        },
        {
          "output_type": "display_data",
          "data": {
            "image/png": "[encoded data removed]",
            "text/plain": [
              "<Figure size 432x288 with 1 Axes>"
            ]
          },
          "metadata": {
            "needs_background": "light"
          }
        }
      ]
    },
    {
      "cell_type": "code",
      "source": [
        "print(len(f_a))\n",
        "print(len(f_b))\n",
        "print(len(f_d))"
      ],
      "metadata": {
        "colab": {
          "base_uri": "https://localhost:8080/"
        },
        "id": "7rgQDiRszZXp",
        "outputId": "1a8fc74a-2f9a-4cdf-870e-e9cc3acf39e1"
      },
      "execution_count": null,
      "outputs": [
        {
          "output_type": "stream",
          "name": "stdout",
          "text": [
            "17\n",
            "41\n",
            "49\n"
          ]
        }
      ]
    },
    {
      "cell_type": "code",
      "source": [
        "f_a = f_a + 32*[f_a[-1]]\n",
        "f_b = f_b + 7*[f_b[-1]]\n"
      ],
      "metadata": {
        "id": "c_u-gdRBePCf"
      },
      "execution_count": null,
      "outputs": []
    },
    {
      "cell_type": "code",
      "source": [
        "diff_a = [j-i for i, j in zip(f_a[:-1], f_a[1:])]\n",
        "diff_b = [j-i for i, j in zip(f_b[:-1], f_b[1:])]\n",
        "diff_d = [j-i for i, j in zip(f_d[:-1], f_d[1:])]"
      ],
      "metadata": {
        "id": "LqDPLsbidSFS"
      },
      "execution_count": null,
      "outputs": []
    },
    {
      "cell_type": "code",
      "source": [
        "diff_a = [torch.nan_to_num(torch.log(i),0,0,0) for i in diff_a]\n",
        "diff_b = [torch.nan_to_num(torch.log(i),0,0,0) for i in diff_b]\n",
        "diff_d = [torch.nan_to_num(torch.log(i),0,0,0) for i in diff_d]"
      ],
      "metadata": {
        "id": "fttbs2nxdeu1"
      },
      "execution_count": null,
      "outputs": []
    },
    {
      "cell_type": "code",
      "source": [
        "diff_a[8:]=41*[-25]\n",
        "diff_b[8:]=41*[-25]"
      ],
      "metadata": {
        "id": "Z3vGaYeH668B"
      },
      "execution_count": null,
      "outputs": []
    },
    {
      "cell_type": "code",
      "source": [
        "plt.plot(np.arange(len(f_a)),f_a, label = 'sigma=0.01')\n",
        "plt.plot(np.arange(len(f_b)),f_b, label = 'sigma=0.1')\n",
        "plt.plot(np.arange(len(f_d)),f_d, label = 'sigma=1')\n",
        "plt.legend(loc='lower right')\n",
        "plt.xlabel('iterations')\n",
        "plt.ylabel('F')\n",
        "plt.title('Free energy iterated over E-step')"
      ],
      "metadata": {
        "colab": {
          "base_uri": "https://localhost:8080/",
          "height": 312
        },
        "id": "WkpaQYCCMBM1",
        "outputId": "b771cf92-e44d-46a1-b16d-73f94c21541a"
      },
      "execution_count": null,
      "outputs": [
        {
          "output_type": "execute_result",
          "data": {
            "text/plain": [
              "Text(0.5, 1.0, 'Free energy iterated over E-step')"
            ]
          },
          "metadata": {},
          "execution_count": 243
        },
        {
          "output_type": "display_data",
          "data": {
            "image/png": "[encoded data removed]",
            "text/plain": [
              "<Figure size 432x288 with 1 Axes>"
            ]
          },
          "metadata": {
            "needs_background": "light"
          }
        }
      ]
    },
    {
      "cell_type": "code",
      "source": [
        "plt.plot(np.arange(len(diff_a)),diff_a, label = 'sigma=0.01')\n",
        "plt.plot(np.arange(len(diff_b)),diff_b, label = 'sigma=0.1')\n",
        "plt.plot(np.arange(len(diff_d)),diff_d, label = 'sigma=1')\n",
        "plt.legend(loc='upper right')\n",
        "plt.xlabel('iterations')\n",
        "plt.ylabel('log(F_(t+1)-F_t)')\n",
        "plt.title('Log-difference in free energy iterated over E-step')"
      ],
      "metadata": {
        "colab": {
          "base_uri": "https://localhost:8080/",
          "height": 312
        },
        "id": "wx7u9evsMfdo",
        "outputId": "8368db58-4b16-44e5-af73-66325071090a"
      },
      "execution_count": null,
      "outputs": [
        {
          "output_type": "execute_result",
          "data": {
            "text/plain": [
              "Text(0.5, 1.0, 'Log-difference in free energy iterated over E-step')"
            ]
          },
          "metadata": {},
          "execution_count": 256
        },
        {
          "output_type": "display_data",
          "data": {
            "image/png": "[encoded data removed]",
            "text/plain": [
              "<Figure size 432x288 with 1 Axes>"
            ]
          },
          "metadata": {
            "needs_background": "light"
          }
        }
      ]
    },
    {
      "cell_type": "code",
      "source": [
        "print(f_a)"
      ],
      "metadata": {
        "colab": {
          "base_uri": "https://localhost:8080/"
        },
        "id": "2cCkIozweiMv",
        "outputId": "9076d557-2afc-441c-d774-5712aa67fe8d"
      },
      "execution_count": null,
      "outputs": [
        {
          "output_type": "stream",
          "name": "stdout",
          "text": [
            "[tensor(-31742.0182, dtype=torch.float64), tensor(-21714.5580, dtype=torch.float64), tensor(-20150.3872, dtype=torch.float64), tensor(-19186.7908, dtype=torch.float64), tensor(-16259.5300, dtype=torch.float64), tensor(-12551.7786, dtype=torch.float64), tensor(-9871.9138, dtype=torch.float64), tensor(-9355.8516, dtype=torch.float64), tensor(-6985.9466, dtype=torch.float64), tensor(-6985.9466, dtype=torch.float64), tensor(-6985.9466, dtype=torch.float64), tensor(-6985.9466, dtype=torch.float64), tensor(-6985.9466, dtype=torch.float64), tensor(-6985.9466, dtype=torch.float64), tensor(-6985.9466, dtype=torch.float64), tensor(-6985.9466, dtype=torch.float64), tensor(-6985.9466, dtype=torch.float64), tensor(-6985.9466, dtype=torch.float64), tensor(-6985.9466, dtype=torch.float64), tensor(-6985.9466, dtype=torch.float64), tensor(-6985.9466, dtype=torch.float64), tensor(-6985.9466, dtype=torch.float64), tensor(-6985.9466, dtype=torch.float64), tensor(-6985.9466, dtype=torch.float64), tensor(-6985.9466, dtype=torch.float64), tensor(-6985.9466, dtype=torch.float64), tensor(-6985.9466, dtype=torch.float64), tensor(-6985.9466, dtype=torch.float64), tensor(-6985.9466, dtype=torch.float64), tensor(-6985.9466, dtype=torch.float64), tensor(-6985.9466, dtype=torch.float64), tensor(-6985.9466, dtype=torch.float64), tensor(-6985.9466, dtype=torch.float64), tensor(-6985.9466, dtype=torch.float64), tensor(-6985.9466, dtype=torch.float64), tensor(-6985.9466, dtype=torch.float64), tensor(-6985.9466, dtype=torch.float64), tensor(-6985.9466, dtype=torch.float64), tensor(-6985.9466, dtype=torch.float64), tensor(-6985.9466, dtype=torch.float64), tensor(-6985.9466, dtype=torch.float64)]\n"
          ]
        }
      ]
    },
    {
      "cell_type": "code",
      "source": [
        "print(diff_a)"
      ],
      "metadata": {
        "colab": {
          "base_uri": "https://localhost:8080/"
        },
        "id": "XVJfWkz9hy3G",
        "outputId": "7a8066bb-572d-4186-9864-1e6bbcca3a7c"
      },
      "execution_count": null,
      "outputs": [
        {
          "output_type": "stream",
          "name": "stdout",
          "text": [
            "[tensor(8.8240, dtype=torch.float64), tensor(5.9600, dtype=torch.float64), tensor(5.6785, dtype=torch.float64), tensor(9.1872, dtype=torch.float64), tensor(8.4912, dtype=torch.float64), tensor(7.7052, dtype=torch.float64), tensor(3.9554, dtype=torch.float64), tensor(7.3083, dtype=torch.float64), tensor(0., dtype=torch.float64), tensor(0., dtype=torch.float64), tensor(0., dtype=torch.float64), tensor(0., dtype=torch.float64), tensor(0., dtype=torch.float64), tensor(0., dtype=torch.float64), tensor(0., dtype=torch.float64), tensor(0., dtype=torch.float64), tensor(0., dtype=torch.float64), tensor(0., dtype=torch.float64), tensor(0., dtype=torch.float64), tensor(0., dtype=torch.float64), tensor(0., dtype=torch.float64), tensor(0., dtype=torch.float64), tensor(0., dtype=torch.float64), tensor(0., dtype=torch.float64), tensor(0., dtype=torch.float64), tensor(0., dtype=torch.float64), tensor(0., dtype=torch.float64), tensor(0., dtype=torch.float64), tensor(0., dtype=torch.float64), tensor(0., dtype=torch.float64), tensor(0., dtype=torch.float64), tensor(0., dtype=torch.float64), tensor(0., dtype=torch.float64), tensor(0., dtype=torch.float64), tensor(0., dtype=torch.float64), tensor(0., dtype=torch.float64), tensor(0., dtype=torch.float64), tensor(0., dtype=torch.float64), tensor(0., dtype=torch.float64), tensor(0., dtype=torch.float64), tensor(0., dtype=torch.float64), tensor(0., dtype=torch.float64), tensor(0., dtype=torch.float64), tensor(0., dtype=torch.float64), tensor(0., dtype=torch.float64), tensor(0., dtype=torch.float64), tensor(0., dtype=torch.float64), tensor(0., dtype=torch.float64)]\n"
          ]
        }
      ]
    },
    {
      "cell_type": "code",
      "source": [
        "print([torch.nan_to_num(torch.log(i),0,0,0) for i in diff_d])"
      ],
      "metadata": {
        "colab": {
          "base_uri": "https://localhost:8080/"
        },
        "id": "p2Dj9-LeiBgH",
        "outputId": "fc213e91-78c3-4985-c615-b22a43c60045"
      },
      "execution_count": null,
      "outputs": [
        {
          "output_type": "stream",
          "name": "stdout",
          "text": [
            "[tensor(-0.1669, dtype=torch.float64), tensor(-0.7601, dtype=torch.float64), tensor(-1.5255, dtype=torch.float64), tensor(-2.7800, dtype=torch.float64), tensor(-5.3007, dtype=torch.float64), tensor(-2.5858, dtype=torch.float64), tensor(-1.1332, dtype=torch.float64), tensor(-3.6622, dtype=torch.float64), tensor(-4.7956, dtype=torch.float64), tensor(-3.7024, dtype=torch.float64), tensor(-8.8376, dtype=torch.float64), tensor(-5.9843, dtype=torch.float64), tensor(-3.9050, dtype=torch.float64), tensor(-8.9750, dtype=torch.float64), tensor(-4.4774, dtype=torch.float64), tensor(-9.4416, dtype=torch.float64), tensor(-15.0944, dtype=torch.float64), tensor(-6.6549, dtype=torch.float64), tensor(-10.3058, dtype=torch.float64), tensor(-8.5241, dtype=torch.float64), tensor(-7.1000, dtype=torch.float64), tensor(-10.5718, dtype=torch.float64), tensor(-8.6548, dtype=torch.float64), tensor(-9.8210, dtype=torch.float64), tensor(-14.6472, dtype=torch.float64), tensor(-11.3157, dtype=torch.float64), tensor(-13.3452, dtype=torch.float64), tensor(-11.9122, dtype=torch.float64), tensor(-11.3725, dtype=torch.float64), tensor(-13.6983, dtype=torch.float64), tensor(-17.1739, dtype=torch.float64), tensor(-13.1908, dtype=torch.float64), tensor(-17.9215, dtype=torch.float64), tensor(-19.3555, dtype=torch.float64), tensor(-20.9486, dtype=torch.float64), tensor(-16.8163, dtype=torch.float64), tensor(-20.6531, dtype=torch.float64), tensor(-18.3322, dtype=torch.float64), tensor(-16.2359, dtype=torch.float64), tensor(-18.5491, dtype=torch.float64)]\n"
          ]
        }
      ]
    },
    {
      "cell_type": "code",
      "source": [
        ""
      ],
      "metadata": {
        "id": "5OSzL15Qir6d"
      },
      "execution_count": null,
      "outputs": []
    }
  ]
}